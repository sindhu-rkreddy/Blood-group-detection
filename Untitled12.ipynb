{
  "nbformat": 4,
  "nbformat_minor": 0,
  "metadata": {
    "colab": {
      "provenance": [],
      "gpuType": "T4",
      "authorship_tag": "ABX9TyNii0Sr8bgeYURXDhGnF3qN",
      "include_colab_link": true
    },
    "kernelspec": {
      "name": "python3",
      "display_name": "Python 3"
    },
    "language_info": {
      "name": "python"
    },
    "accelerator": "GPU"
  },
  "cells": [
    {
      "cell_type": "markdown",
      "metadata": {
        "id": "view-in-github",
        "colab_type": "text"
      },
      "source": [
        "<a href=\"https://colab.research.google.com/github/sindhu-rkreddy/Blood-group-detection/blob/main/Untitled12.ipynb\" target=\"_parent\"><img src=\"https://colab.research.google.com/assets/colab-badge.svg\" alt=\"Open In Colab\"/></a>"
      ]
    },
    {
      "cell_type": "code",
      "source": [
        "!pip install -q flwr torchvision matplotlib"
      ],
      "metadata": {
        "id": "h29melTvevCN"
      },
      "execution_count": null,
      "outputs": []
    },
    {
      "cell_type": "code",
      "source": [
        "import flwr as fl\n",
        "import torch\n",
        "import torch.nn as nn\n",
        "import torch.optim as optim\n",
        "import torchvision\n",
        "import torchvision.transforms as transforms\n",
        "from torchvision import models\n",
        "from torch.utils.data import DataLoader, Subset\n",
        "import numpy as np\n",
        "import random\n",
        "import copy\n",
        "import matplotlib.pyplot as plt\n",
        "from collections import defaultdict"
      ],
      "metadata": {
        "id": "mtmTVde7eyfM"
      },
      "execution_count": null,
      "outputs": []
    },
    {
      "cell_type": "code",
      "source": [
        "# ------------------ Data Preparation ------------------ #\n",
        "transform_train = transforms.Compose([\n",
        "    transforms.RandomHorizontalFlip(),\n",
        "    transforms.RandomCrop(32, padding=4),\n",
        "    transforms.Resize(224),\n",
        "    transforms.ToTensor(),\n",
        "])\n",
        "\n",
        "transform_test = transforms.Compose([\n",
        "    transforms.Resize(224),\n",
        "    transforms.ToTensor(),\n",
        "])\n"
      ],
      "metadata": {
        "id": "sTLk_rjLe20c"
      },
      "execution_count": null,
      "outputs": []
    },
    {
      "cell_type": "code",
      "source": [
        "# Download dataset\n",
        "trainset_full = torchvision.datasets.CIFAR100(root=\"./data\", train=True, download=True, transform=transform_train)\n",
        "testset_full = torchvision.datasets.CIFAR100(root=\"./data\", train=False, download=True, transform=transform_test)\n"
      ],
      "metadata": {
        "colab": {
          "base_uri": "https://localhost:8080/"
        },
        "id": "7s9oUTshe71j",
        "outputId": "2c48e5bb-bdcb-42b1-cf74-a91761427fcb"
      },
      "execution_count": null,
      "outputs": [
        {
          "output_type": "stream",
          "name": "stderr",
          "text": [
            "100%|██████████| 169M/169M [00:15<00:00, 11.2MB/s]\n"
          ]
        }
      ]
    },
    {
      "cell_type": "code",
      "source": [
        "\n",
        "# Select top 10 classes for quick training\n",
        "selected_classes = list(range(10))\n",
        "def filter_dataset(dataset):\n",
        "    indices = [i for i, (_, label) in enumerate(dataset) if label in selected_classes]\n",
        "    return Subset(dataset, indices)\n",
        "\n",
        "trainset = filter_dataset(trainset_full)\n",
        "testset = filter_dataset(testset_full)\n"
      ],
      "metadata": {
        "id": "lYdzeJKNfEeZ"
      },
      "execution_count": null,
      "outputs": []
    },
    {
      "cell_type": "code",
      "source": [
        "# Partition dataset\n",
        "def partition_dataset(dataset, num_clients):\n",
        "    indices = list(range(len(dataset)))\n",
        "    random.shuffle(indices)\n",
        "    split_size = len(dataset) // num_clients\n",
        "    return [Subset(dataset, indices[i * split_size:(i + 1) * split_size]) for i in range(num_clients)]\n",
        "\n",
        "NUM_CLIENTS = 3\n",
        "client_trainsets = partition_dataset(trainset, NUM_CLIENTS)\n",
        "client_testsets = [testset for _ in range(NUM_CLIENTS)]\n"
      ],
      "metadata": {
        "id": "TpqwDdNwfJu_"
      },
      "execution_count": null,
      "outputs": []
    },
    {
      "cell_type": "code",
      "source": [
        "# ------------------ Model Definitions ------------------ #\n",
        "def get_model(model_name=\"resnet18\"):\n",
        "    if model_name == \"resnet18\":\n",
        "        model = models.resnet18(weights=models.ResNet18_Weights.DEFAULT)\n",
        "        for param in model.parameters(): param.requires_grad = False\n",
        "        model.fc = nn.Linear(model.fc.in_features, 10)\n",
        "    elif model_name == \"mobilenet\":\n",
        "        model = models.mobilenet_v2(weights=models.MobileNet_V2_Weights.DEFAULT)\n",
        "        for param in model.parameters(): param.requires_grad = False\n",
        "        model.classifier[1] = nn.Linear(model.last_channel, 10)\n",
        "    elif model_name == \"shufflenet\":\n",
        "        model = models.shufflenet_v2_x1_0(weights=models.ShuffleNet_V2_X1_0_Weights.DEFAULT)\n",
        "        for param in model.parameters(): param.requires_grad = False\n",
        "        model.fc = nn.Linear(model.fc.in_features, 10)\n",
        "    elif model_name == \"squeezenet\":\n",
        "        model = models.squeezenet1_0(weights=models.SqueezeNet1_0_Weights.DEFAULT)\n",
        "        for param in model.parameters(): param.requires_grad = False\n",
        "        model.classifier[1] = nn.Conv2d(512, 10, kernel_size=(1, 1))\n",
        "    else:\n",
        "        raise ValueError(\"Unknown model name\")\n",
        "    return model"
      ],
      "metadata": {
        "id": "XIAzMrikffDM"
      },
      "execution_count": null,
      "outputs": []
    },
    {
      "cell_type": "code",
      "source": [
        "# ------------------ Flower Client ------------------ #\n",
        "class FlowerClient(fl.client.NumPyClient):\n",
        "    def __init__(self, model, trainset, testset, epochs=1):\n",
        "        self.model = model\n",
        "        self.train_loader = DataLoader(trainset, batch_size=64, shuffle=True)\n",
        "        self.test_loader = DataLoader(testset, batch_size=64, shuffle=False)\n",
        "        self.device = torch.device(\"cpu\")\n",
        "        self.model.to(self.device)\n",
        "        self.epochs = epochs\n",
        "\n",
        "    def get_parameters(self, config=None):\n",
        "        return [val.cpu().numpy() for val in self.model.state_dict().values()]\n",
        "\n",
        "    def set_parameters(self, parameters):\n",
        "        params_dict = zip(self.model.state_dict().keys(), parameters)\n",
        "        state_dict = {k: torch.tensor(v, dtype=self.model.state_dict()[k].dtype) for k, v in params_dict}\n",
        "        self.model.load_state_dict(state_dict, strict=True)\n",
        "\n",
        "    def fit(self, parameters, config=None):\n",
        "        self.set_parameters(parameters)\n",
        "        self.model.train()\n",
        "        optimizer = optim.Adam(filter(lambda p: p.requires_grad, self.model.parameters()), lr=0.001)\n",
        "        criterion = nn.CrossEntropyLoss()\n",
        "\n",
        "        for epoch in range(self.epochs):\n",
        "            for data, target in self.train_loader:\n",
        "                data, target = data.to(self.device), target.to(self.device)\n",
        "                optimizer.zero_grad()\n",
        "                outputs = self.model(data)\n",
        "                loss = criterion(outputs, target)\n",
        "                loss.backward()\n",
        "                optimizer.step()\n",
        "        return self.get_parameters(), len(self.train_loader.dataset), {}\n",
        "\n",
        "    def evaluate(self, parameters, config=None):\n",
        "        self.set_parameters(parameters)\n",
        "        self.model.eval()\n",
        "        correct, total, loss_total = 0, 0, 0.0\n",
        "        criterion = nn.CrossEntropyLoss()\n",
        "        with torch.no_grad():\n",
        "            for data, target in self.test_loader:\n",
        "                data, target = data.to(self.device), target.to(self.device)\n",
        "                output = self.model(data)\n",
        "                loss = criterion(output, target)\n",
        "                loss_total += loss.item()\n",
        "                pred = output.argmax(dim=1)\n",
        "                correct += (pred == target).sum().item()\n",
        "                total += target.size(0)\n",
        "        return loss_total / len(self.test_loader), total, {\"accuracy\": correct / total}\n"
      ],
      "metadata": {
        "id": "__ska7abfjlH"
      },
      "execution_count": null,
      "outputs": []
    },
    {
      "cell_type": "code",
      "source": [
        "# ------------------ Federated Simulation ------------------ #\n",
        "def simulate_federated_learning(models_to_use):\n",
        "    results = defaultdict(list)\n",
        "    NUM_ROUNDS = 5\n",
        "    LOCAL_EPOCHS = 1\n",
        "\n",
        "    for model_name in models_to_use:\n",
        "        print(f\"\\n\\n🚀 Training with model: {model_name}\")\n",
        "        model = get_model(model_name)\n",
        "        global_parameters = [val.cpu().detach().numpy() for val in model.state_dict().values()]\n",
        "\n",
        "        for rnd in range(NUM_ROUNDS):\n",
        "            print(f\"\\n🔁 Round {rnd + 1}\")\n",
        "            new_weights = []\n",
        "            for i in range(NUM_CLIENTS):\n",
        "                client_model = get_model(model_name)\n",
        "                client = FlowerClient(client_model, client_trainsets[i], client_testsets[i], epochs=LOCAL_EPOCHS)\n",
        "                updated_params, _, _ = client.fit(global_parameters)\n",
        "                new_weights.append(updated_params)\n",
        "\n",
        "            avg_weights = copy.deepcopy(new_weights[0])\n",
        "            for k in range(len(avg_weights)):\n",
        "                for j in range(1, NUM_CLIENTS):\n",
        "                    avg_weights[k] += new_weights[j][k]\n",
        "                avg_weights[k] = avg_weights[k] / NUM_CLIENTS\n",
        "\n",
        "            global_parameters = avg_weights\n",
        "\n",
        "            eval_model = get_model(model_name)\n",
        "            evaluator = FlowerClient(eval_model, client_trainsets[0], client_testsets[0])\n",
        "            _, _, metrics = evaluator.evaluate(global_parameters)\n",
        "            acc = metrics[\"accuracy\"] * 100\n",
        "            results[model_name].append(acc)\n",
        "            print(f\"✅ Accuracy after round {rnd + 1}: {acc:.2f}%\")\n",
        "\n",
        "    return results"
      ],
      "metadata": {
        "id": "uMjskH5EfoSX"
      },
      "execution_count": null,
      "outputs": []
    },
    {
      "cell_type": "code",
      "source": [
        "# ------------------ Run Simulation ------------------ #\n",
        "models_to_use = [\"mobilenet\", \"resnet18\", \"shufflenet\", \"squeezenet\"]\n",
        "results = simulate_federated_learning(models_to_use)\n",
        "\n",
        "# ------------------ Plot Results ------------------ #\n",
        "for model_name, accs in results.items():\n",
        "    plt.plot(range(1, len(accs) + 1), accs, label=model_name)\n",
        "\n",
        "plt.title(\"Federated Learning Accuracy per Round\")\n",
        "plt.xlabel(\"Round\")\n",
        "plt.ylabel(\"Accuracy (%)\")\n",
        "plt.legend()\n",
        "plt.grid(True)\n",
        "plt.show()"
      ],
      "metadata": {
        "colab": {
          "base_uri": "https://localhost:8080/"
        },
        "id": "amaNWcVTft6r",
        "outputId": "ebc61122-8f8a-491e-8124-fa10e94a7a98"
      },
      "execution_count": null,
      "outputs": [
        {
          "metadata": {
            "tags": null
          },
          "name": "stdout",
          "output_type": "stream",
          "text": [
            "\n",
            "\n",
            "🚀 Training with model: mobilenet\n",
            "\n",
            "🔁 Round 1\n",
            "✅ Accuracy after round 1: 58.20%\n",
            "\n",
            "🔁 Round 2\n",
            "✅ Accuracy after round 2: 75.10%\n",
            "\n",
            "🔁 Round 3\n",
            "✅ Accuracy after round 3: 78.90%\n",
            "\n",
            "🔁 Round 4\n",
            "✅ Accuracy after round 4: 79.70%\n",
            "\n",
            "🔁 Round 5\n",
            "✅ Accuracy after round 5: 80.40%\n",
            "\n",
            "\n",
            "🚀 Training with model: resnet18\n",
            "\n",
            "🔁 Round 1\n",
            "✅ Accuracy after round 1: 66.20%\n",
            "\n",
            "🔁 Round 2\n",
            "✅ Accuracy after round 2: 77.90%\n",
            "\n",
            "🔁 Round 3\n",
            "✅ Accuracy after round 3: 81.80%\n",
            "\n",
            "🔁 Round 4\n",
            "✅ Accuracy after round 4: 83.80%\n",
            "\n",
            "🔁 Round 5\n",
            "✅ Accuracy after round 5: 83.80%\n",
            "\n",
            "\n",
            "🚀 Training with model: shufflenet\n"
          ]
        },
        {
          "metadata": {
            "tags": null
          },
          "name": "stderr",
          "output_type": "stream",
          "text": [
            "Downloading: \"https://download.pytorch.org/models/shufflenetv2_x1-5666bf0f80.pth\" to /root/.cache/torch/hub/checkpoints/shufflenetv2_x1-5666bf0f80.pth\n",
            "100%|██████████| 8.79M/8.79M [00:00<00:00, 142MB/s]\n"
          ]
        },
        {
          "metadata": {
            "tags": null
          },
          "name": "stdout",
          "output_type": "stream",
          "text": [
            "\n",
            "🔁 Round 1\n",
            "✅ Accuracy after round 1: 45.80%\n",
            "\n",
            "🔁 Round 2\n",
            "✅ Accuracy after round 2: 67.00%\n",
            "\n",
            "🔁 Round 3\n",
            "✅ Accuracy after round 3: 74.40%\n",
            "\n",
            "🔁 Round 4\n",
            "✅ Accuracy after round 4: 76.00%\n",
            "\n",
            "🔁 Round 5\n",
            "✅ Accuracy after round 5: 79.40%\n",
            "\n",
            "\n",
            "🚀 Training with model: squeezenet\n"
          ]
        },
        {
          "metadata": {
            "tags": null
          },
          "name": "stderr",
          "output_type": "stream",
          "text": [
            "Downloading: \"https://download.pytorch.org/models/squeezenet1_0-b66bff10.pth\" to /root/.cache/torch/hub/checkpoints/squeezenet1_0-b66bff10.pth\n",
            "100%|██████████| 4.78M/4.78M [00:01<00:00, 4.75MB/s]\n"
          ]
        },
        {
          "output_type": "stream",
          "name": "stdout",
          "text": [
            "\n",
            "🔁 Round 1\n",
            "✅ Accuracy after round 1: 48.50%\n",
            "\n",
            "🔁 Round 2\n",
            "✅ Accuracy after round 2: 59.50%\n",
            "\n",
            "🔁 Round 3\n",
            "✅ Accuracy after round 3: 67.30%\n",
            "\n",
            "🔁 Round 4\n",
            "✅ Accuracy after round 4: 69.10%\n",
            "\n",
            "🔁 Round 5\n",
            "✅ Accuracy after round 5: 72.30%\n"
          ]
        },
        {
          "output_type": "display_data",
          "data": {
            "text/plain": [
              "<Figure size 640x480 with 1 Axes>"
            ],
            "image/png": "[encoded data removed]"
          },
          "metadata": {}
        }
      ]
    }
  ]
}